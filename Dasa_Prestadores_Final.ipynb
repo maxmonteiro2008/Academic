{
  "nbformat": 4,
  "nbformat_minor": 0,
  "metadata": {
    "colab": {
      "provenance": [],
      "authorship_tag": "ABX9TyM4qZkI+t9IItqvGeti0Mg0",
      "include_colab_link": true
    },
    "kernelspec": {
      "name": "python3",
      "display_name": "Python 3"
    },
    "language_info": {
      "name": "python"
    }
  },
  "cells": [
    {
      "cell_type": "markdown",
      "metadata": {
        "id": "view-in-github",
        "colab_type": "text"
      },
      "source": [
        "<a href=\"https://colab.research.google.com/github/maxmonteiro2008/Academic/blob/main/Dasa_Prestadores_Final.ipynb\" target=\"_parent\"><img src=\"https://colab.research.google.com/assets/colab-badge.svg\" alt=\"Open In Colab\"/></a>"
      ]
    },
    {
      "cell_type": "code",
      "source": [
        "!pip install -r mx_requirements.txt"
      ],
      "metadata": {
        "colab": {
          "base_uri": "https://localhost:8080/"
        },
        "id": "e2vW6_OsxTKx",
        "outputId": "617cd66c-e604-44e7-92a2-4565266c408b"
      },
      "execution_count": 3,
      "outputs": [
        {
          "output_type": "stream",
          "name": "stdout",
          "text": [
            "Collecting en-core-web-sm@ https://github.com/explosion/spacy-models/releases/download/en_core_web_sm-3.6.0/en_core_web_sm-3.6.0-py3-none-any.whl#sha256=83276fc78a70045627144786b52e1f2728ad5e29e5e43916ec37ea9c26a11212 (from -r mx_requirements.txt (line 83))\n",
            "  Downloading https://github.com/explosion/spacy-models/releases/download/en_core_web_sm-3.6.0/en_core_web_sm-3.6.0-py3-none-any.whl (12.8 MB)\n",
            "\u001b[2K     \u001b[90m━━━━━━━━━━━━━━━━━━━━━━━━━━━━━━━━━━━━━━━━\u001b[0m \u001b[32m12.8/12.8 MB\u001b[0m \u001b[31m18.8 MB/s\u001b[0m eta \u001b[36m0:00:00\u001b[0m\n",
            "\u001b[?25hProcessing /colabtools/dist/google-colab-1.0.0.tar.gz (from -r mx_requirements.txt (line 137))\n",
            "\u001b[31mERROR: Could not install packages due to an OSError: [Errno 2] No such file or directory: '/colabtools/dist/google-colab-1.0.0.tar.gz'\n",
            "\u001b[0m\u001b[31m\n",
            "\u001b[0m"
          ]
        }
      ]
    },
    {
      "cell_type": "code",
      "execution_count": 5,
      "metadata": {
        "id": "Q5wmmZlYKKxr"
      },
      "outputs": [],
      "source": [
        "import pandas as pd\n",
        "import numpy as np\n",
        "import sys\n",
        "\n",
        "# bibliotecas de análise de perfomance do modelo\n",
        "import matplotlib.pyplot as plt\n",
        "from sklearn.tree import export_graphviz\n",
        "import pydot\n",
        "from sklearn.metrics import RocCurveDisplay\n",
        "\n",
        "#bibliotecas de  similaridade de strings\n",
        "from strsimpy.jaro_winkler import JaroWinkler\n",
        "from thefuzz import fuzz\n",
        "\n",
        "#bibliotecas de geração do modelo\n",
        "from sklearn.model_selection import train_test_split\n",
        "from sklearn.ensemble import RandomForestClassifier\n",
        "import joblib\n",
        "\n",
        "\n"
      ]
    },
    {
      "cell_type": "code",
      "source": [
        "# len (sys.argv<4)\n",
        "if (False):\n",
        "   print(\"O número de  parâmetros está incompleto \\n\")\n",
        "else:\n",
        "   #data_arq=sys.argv[1]\n",
        "   data_arq=\"./max_dados_4.xlsx\"\n",
        "   model_arq=\"./random_forest_m1.joblib\"\n",
        "   #model_arq= sys.argv[2]\n",
        "   #out_arq= sys.argv[3]\n",
        "   out_arq=\"./out.xlsx\"\n",
        "   #if(len(data_arq) !=0 ):\n",
        "   if(True):\n",
        "      data = pd.read_excel(data_arq, header=0)\n",
        "\n",
        "   else:\n",
        "      print(\"nome do arquivo de entrada, não encontrado\")\n",
        "\n",
        "   if(len(model_arq) !=0 ):\n",
        "      rf_loaded_model = joblib.load(model_arq)\n",
        "\n",
        "   else:\n",
        "      print(\"nome do arquivo de modelo, não encontrado\")\n",
        "   if(len(out_arq) ==0 ):\n",
        "      print(\"nome do arquivo de modsaida, não encontrado\")\n",
        "\n",
        "\n",
        "# limpando duplicados\n",
        "data.drop_duplicates(inplace = True)\n",
        "origi=data.copy()\n",
        "\n",
        "\n",
        "# calculando  Similaridades\n",
        "distance=JaroWinkler()\n",
        "for x in data.index:\n",
        "   # pyjarowinkler similarities razao social Ouro\n",
        "\n",
        "   if (type(data.loc[x,\"razaosocial_base_ouro\"])==str) and (type(data.loc[x,[\"nmPrestador_clean\"]])==str):\n",
        "       data.loc[x,[\"sim_nmPrestadorCleanRazaosocialOuroJaro\"]]=distance.similarity(data.loc[x,\"razaosocial_base_ouro\"].strip().lower(), data.loc[x,\"nmPrestador_clean\"].strip().lower())\n",
        "\n",
        "   else:\n",
        "       data.loc[x,[\"sim_nmPrestadorCleanRazaosocialOuroJaro\"]]=distance.similarity(data.loc[x,\"razaosocial_base_ouro\"], data.loc[x,\"nmPrestador_clean\"])\n",
        "\n",
        "\n",
        "   if (type(data.loc[x,'razaosocial_base_ouro'])==str)and (type(data.loc[x,\"nmFantasia_clean\"])==str):\n",
        "       data.loc[x,[\"sim_nmFantasiaCleanRazaosocialOuroJaro\"]]=distance.similarity(data.loc[x,'razaosocial_base_ouro'].strip().lower(), data.loc[x,\"nmFantasia_clean\"].strip().lower())\n",
        "   else:\n",
        "       data.loc[x,[\"sim_nmFantasiaCleanRazaosocialOuroJaro\"]]=distance.similarity(data.loc[x,'razaosocial_base_ouro'], data.loc[x,\"nmFantasia_clean\"])\n",
        "\n",
        "\n",
        "   # fuzz similarities nmFantasia Ouro\n",
        "   if (type(data.loc[x,\"nmPrestador_clean\"])==str)and (type(data.loc[x,\"nomefantasia_base_ouro\"])==str)and (type(data.loc[x,[\"nmFantasia_clean\"]])==str)and (type (data.loc[x,[\"zaosocial\"]])==str):\n",
        "      data.loc[x,[\"sim_nmPrestadorCleannmFantasiaOuroFuzz\"]]=fuzz.ratio(data.loc[x,\"nmPrestador_clean\"].strip().lower(), data.loc[x,'nomefantasia_base_ouro'].strip().lower())/100\n",
        "      data.loc[x,[\"sim_nmFantasiaCleannmFantasiaOuroFuzz\"]]=fuzz.ratio(data.loc[x,\"nmFantasia_clean\"].strip().lower(), data.loc[x,'nomefantasia_base_ouro'].strip().lower())/100\n",
        "\n",
        "\n",
        "   else:\n",
        "\n",
        "      data.loc[x,[\"sim_nmPrestadorCleannmFantasiaOuroFuzz\"]]=fuzz.ratio(data.loc[x,\"nmPrestador_clean\"], data.loc[x,'nomefantasia_base_ouro'])/100\n",
        "      data.loc[x,[\"sim_nmFantasiaCleannmFantasiaOuroFuzz\"]]=fuzz.ratio(data.loc[x,\"nmFantasia_clean\"], data.loc[x,'nomefantasia_base_ouro'])/100\n",
        "\n",
        "\n",
        "\n",
        "\n",
        "\n",
        "# drop string variables\n",
        "\n",
        "\n",
        "\n",
        "data.drop(\n",
        "[\n",
        "\"Prestador_cdPrestadorGUID\",\n",
        "\"nmPrestador\",\n",
        "\"nmFantasia\",\n",
        "\"dsEmail\",\n",
        "\"dsTipoPrestador\",\n",
        "\"nuCNPJ\",\n",
        "\"nuCNES\",\n",
        "\"nuCRM\",\n",
        "\"nuInscricaoMunicipal\",\n",
        "\"nuInscricaoEstadual\",\n",
        "\"dsPrestadorUnidade\",\n",
        "\"cdPrestadorNaOperadora\",\n",
        "\"dsEspecialidade\",\n",
        "\"longitude\",\n",
        "\"latitude\",\n",
        "\"nuTelefone\",\n",
        "\"nuCEP\",\n",
        "\"dsLogradouro\",\n",
        "\"dsNumero\",\n",
        "\"dsBairro\",\n",
        "\"dsMunicipio\",\n",
        "\"dsUf\",\n",
        "\"dsComplemento\",\n",
        "\"nmPrestador_clean\",\n",
        "\"nmPrestador_levenstein\",\n",
        "\"nmFantasia_clean\",\n",
        "\"nuCNPJ_clean\",\n",
        "\"nuCNES_clean\",\n",
        "\"nuCRM_clean\",\n",
        "\"nuInscricaoMunicipal_clean\",\n",
        "\"nuInscricaoEstadual_clean\",\n",
        "\"nuTelefone_clean\",\n",
        "\"nuCEP_clean\",\n",
        "\"dsLogradouro_clean\",\n",
        "\"dsNumero_clean\",\n",
        "\"dsBairro_clean\",\n",
        "\"dsMunicipio_clean\",\n",
        "\"dsUf_clean\",\n",
        "\"dsComplemento_clean\",\n",
        "\"dsEndereco\",\n",
        "\"flagOrigem\",\n",
        "\"cdTipoPrestador\",\n",
        "\"key\",\n",
        "\"idOperadora\",\n",
        "\"idEmpresa\",\n",
        "\"key_match\",\n",
        "\"flagOrigem_match\",\n",
        "\"idEmpresaOrigem_match\",\n",
        "\"idOperadoraOrigem_match\",\n",
        "'cnpj_base_ouro',\n",
        "\"razaosocial_base_ouro\",\n",
        "\"nomefantasia_base_ouro\"\n",
        "], axis=1, inplace=True)\n",
        "\n",
        "\n",
        "data[\"flagHospital\"]=data[\"flagHospital\"].replace(np.nan, 0)\n",
        "data[\"flagClinica\"]=data[\"flagClinica\"].replace(np.nan, 0)\n",
        "data[\"flagHomeCare\"]=data[\"flagHomeCare\"].replace(np.nan, 0)\n",
        "data[\"flagLaboratorio\"]=data[\"flagLaboratorio\"].replace(np.nan, 0)\n",
        "data[\"flagCardiologia\"]=data[\"flagCardiologia\"].replace(np.nan, 0)\n",
        "data[\"flagGinecologia\"]=data[\"flagGinecologia\"].replace(np.nan, 0)\n",
        "data[\"flagPediatrico\"]=data[\"flagPediatrico\"].replace(np.nan, 0)\n",
        "data[\"flagOrtopedia\"]=data[\"flagOrtopedia\"].replace(np.nan, 0)\n",
        "data[\"flagOutros\"]=data[\"flagOutros\"].replace(np.nan, 0)\n",
        "\n",
        "\n"
      ],
      "metadata": {
        "id": "asptrG3QKsUt"
      },
      "execution_count": 17,
      "outputs": []
    },
    {
      "cell_type": "code",
      "source": [
        "# Predição\n",
        "predictions = rf_loaded_model.predict(data)\n",
        "\n",
        "origi['match']=predictions\n",
        "\n",
        "data.drop(\n",
        "[\n",
        "\"sim_nmFantasiaCleanRazaosocialOuroJaro\",\n",
        "\"sim_nmPrestadorCleanRazaosocialOuroJaro\",\n",
        "\"sim_nmPrestadorCleannmFantasiaOuroFuzz\",\n",
        "\"sim_nmFantasiaCleannmFantasiaOuroFuzz\"\n",
        "\n",
        "], axis=1, inplace=True)\n",
        "\n"
      ],
      "metadata": {
        "id": "Yo1dEcs_2upo"
      },
      "execution_count": 18,
      "outputs": []
    },
    {
      "cell_type": "code",
      "source": [
        "\n",
        "\n",
        "origi['match']=predictions\n",
        "origi.to_excel(out_arq, index=True, header=True)\n",
        "origi.head(50)\n"
      ],
      "metadata": {
        "id": "dFVLpacOw3M9"
      },
      "execution_count": null,
      "outputs": []
    }
  ]
}